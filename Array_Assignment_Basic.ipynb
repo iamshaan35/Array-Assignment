{
 "cells": [
  {
   "cell_type": "raw",
   "id": "92d9ee5f-5f7c-468a-a7e7-b495bc180412",
   "metadata": {},
   "source": [
    "1. Given an array, check if it contains any duplicates or not.\n",
    "arr = [1, 2, 4, 2, 5, 9]"
   ]
  },
  {
   "cell_type": "code",
   "execution_count": 17,
   "id": "5e1ac4b4-cd5d-4740-b7be-f7113bb0dac9",
   "metadata": {},
   "outputs": [
    {
     "data": {
      "text/plain": [
       "True"
      ]
     },
     "execution_count": 17,
     "metadata": {},
     "output_type": "execute_result"
    }
   ],
   "source": [
    "#1. Given an array, check if it contains any duplicates or not.\n",
    "def duplicate_chk(arr):\n",
    "    for i in arr:\n",
    "        if len(arr) != len(set(arr)):\n",
    "            return True\n",
    "        else:\n",
    "            return False\n",
    "\n",
    "arr = [1, 2, 4, 2, 5, 9]  \n",
    "duplicate_chk(arr)"
   ]
  },
  {
   "cell_type": "code",
   "execution_count": 12,
   "id": "b1fee377-13a7-40b4-aa2e-aa92b9a2e050",
   "metadata": {},
   "outputs": [
    {
     "data": {
      "text/plain": [
       "[4, 5, 6, 7, 1, 2, 3]"
      ]
     },
     "execution_count": 12,
     "metadata": {},
     "output_type": "execute_result"
    }
   ],
   "source": [
    "#2. Given an array and an integer k, rotate the array to the right by k steps.\n",
    "arr = [1, 2, 3, 4, 5, 6, 7]\n",
    "k = 3\n",
    "\n",
    "def arr_rot(arr,k):\n",
    "    rotated_list = arr[k:] + arr[:k]\n",
    "    return rotated_list\n",
    "    \n",
    "    \n",
    "arr_rot(arr,k)    "
   ]
  },
  {
   "cell_type": "code",
   "execution_count": 7,
   "id": "8744914b-3321-47ce-ab4d-db8e41b4e9ee",
   "metadata": {},
   "outputs": [
    {
     "data": {
      "text/plain": [
       "[12, 9, 7, 5, 4, 2]"
      ]
     },
     "execution_count": 7,
     "metadata": {},
     "output_type": "execute_result"
    }
   ],
   "source": [
    "#3. Reverse the given array in-place, means without using any extra data structure.\n",
    "def arr_rev(arr):\n",
    "    for i in arr:\n",
    "        reverse = arr[::-1]\n",
    "        return reverse\n",
    "\n",
    "#driver Code\n",
    "arr = [2, 4, 5, 7, 9, 12]\n",
    "arr_rev(arr)"
   ]
  },
  {
   "cell_type": "code",
   "execution_count": 5,
   "id": "794722a8-2bd0-48e5-b2c5-ae33e471a38b",
   "metadata": {},
   "outputs": [
    {
     "data": {
      "text/plain": [
       "20"
      ]
     },
     "execution_count": 5,
     "metadata": {},
     "output_type": "execute_result"
    }
   ],
   "source": [
    "#4. Given an array of integers, find the maximum element in an array (USING RECURSION)\n",
    "def max_num(arr):\n",
    "    if len(arr) == 1:\n",
    "        return arr[0]\n",
    "    else:\n",
    "        return max(arr[0], max_num(arr[1:]))\n",
    "    \n",
    "    \n",
    "#driver Code\n",
    "arr = [10, 5, 20, 8, 15]\n",
    "max_num(arr)"
   ]
  },
  {
   "cell_type": "code",
   "execution_count": 11,
   "id": "3156cc64-5b66-4d3f-9add-1b98a87effe0",
   "metadata": {},
   "outputs": [
    {
     "data": {
      "text/plain": [
       "20"
      ]
     },
     "execution_count": 11,
     "metadata": {},
     "output_type": "execute_result"
    }
   ],
   "source": [
    "#4. Given an array of integers, find the maximum element in an array (ANOTHER WAY)\n",
    "def max_num(arr):\n",
    "    arr.sort()\n",
    "    return arr[-1]\n",
    "    \n",
    "arr = [10, 5, 20, 8, 15]\n",
    "max_num(arr)"
   ]
  },
  {
   "cell_type": "code",
   "execution_count": 21,
   "id": "b77e893e-5007-4fcf-9c1f-a6eefd04428a",
   "metadata": {},
   "outputs": [
    {
     "data": {
      "text/plain": [
       "[1, 2, 3, 4, 5]"
      ]
     },
     "execution_count": 21,
     "metadata": {},
     "output_type": "execute_result"
    }
   ],
   "source": [
    "#5. Given a sorted array, remove the duplicate element without using any extra data structure.\n",
    "def dup_remove(arr):\n",
    "    new_arr = []\n",
    "    for i in arr:\n",
    "        if i not in new_arr:\n",
    "            new_arr.append(i)\n",
    "    return new_arr\n",
    "\n",
    "\n",
    "#Driver Code\n",
    "arr = [1, 1, 2, 2, 2, 3, 3, 4, 4, 4, 5, 5]\n",
    "dup_remove(arr)"
   ]
  },
  {
   "cell_type": "code",
   "execution_count": null,
   "id": "c6df9d65-adec-4512-8bd3-d692c9356f8d",
   "metadata": {},
   "outputs": [],
   "source": []
  },
  {
   "cell_type": "code",
   "execution_count": null,
   "id": "d8fcb2c1-8d8b-47a2-b7eb-c29224d31268",
   "metadata": {},
   "outputs": [],
   "source": []
  }
 ],
 "metadata": {
  "kernelspec": {
   "display_name": "Python 3 (ipykernel)",
   "language": "python",
   "name": "python3"
  },
  "language_info": {
   "codemirror_mode": {
    "name": "ipython",
    "version": 3
   },
   "file_extension": ".py",
   "mimetype": "text/x-python",
   "name": "python",
   "nbconvert_exporter": "python",
   "pygments_lexer": "ipython3",
   "version": "3.10.8"
  }
 },
 "nbformat": 4,
 "nbformat_minor": 5
}
